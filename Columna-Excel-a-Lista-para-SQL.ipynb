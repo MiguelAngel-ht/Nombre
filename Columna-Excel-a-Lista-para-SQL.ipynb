{
 "cells": [
  {
   "cell_type": "code",
   "execution_count": 14,
   "id": "803a4437",
   "metadata": {},
   "outputs": [],
   "source": [
    "import pandas as pd"
   ]
  },
  {
   "cell_type": "code",
   "execution_count": 23,
   "id": "5aab7fd4",
   "metadata": {},
   "outputs": [
    {
     "data": {
      "text/html": [
       "<div>\n",
       "<style scoped>\n",
       "    .dataframe tbody tr th:only-of-type {\n",
       "        vertical-align: middle;\n",
       "    }\n",
       "\n",
       "    .dataframe tbody tr th {\n",
       "        vertical-align: top;\n",
       "    }\n",
       "\n",
       "    .dataframe thead th {\n",
       "        text-align: right;\n",
       "    }\n",
       "</style>\n",
       "<table border=\"1\" class=\"dataframe\">\n",
       "  <thead>\n",
       "    <tr style=\"text-align: right;\">\n",
       "      <th></th>\n",
       "      <th>Columna</th>\n",
       "    </tr>\n",
       "  </thead>\n",
       "  <tbody>\n",
       "    <tr>\n",
       "      <th>0</th>\n",
       "      <td>2684543</td>\n",
       "    </tr>\n",
       "    <tr>\n",
       "      <th>1</th>\n",
       "      <td>3017166</td>\n",
       "    </tr>\n",
       "    <tr>\n",
       "      <th>2</th>\n",
       "      <td>2671727</td>\n",
       "    </tr>\n",
       "    <tr>\n",
       "      <th>3</th>\n",
       "      <td>2975122</td>\n",
       "    </tr>\n",
       "    <tr>\n",
       "      <th>4</th>\n",
       "      <td>2869827</td>\n",
       "    </tr>\n",
       "  </tbody>\n",
       "</table>\n",
       "</div>"
      ],
      "text/plain": [
       "   Columna\n",
       "0  2684543\n",
       "1  3017166\n",
       "2  2671727\n",
       "3  2975122\n",
       "4  2869827"
      ]
     },
     "execution_count": 23,
     "metadata": {},
     "output_type": "execute_result"
    }
   ],
   "source": [
    "df = pd.read_excel('AltaRotacionModelosMercadoLibre.xlsx') \n",
    "df.head()"
   ]
  },
  {
   "cell_type": "code",
   "execution_count": 27,
   "id": "b4285b76",
   "metadata": {},
   "outputs": [],
   "source": [
    "def Create_List(file_name, columna=False, file='csv'):\n",
    "    \n",
    "    if file == 'csv':\n",
    "        df = pd.read_csv(file_name) \n",
    "        a = ''\n",
    "        for n, i in enumerate(df['CODE']):\n",
    "\n",
    "                a += \"'\"+str(i)+\"', \"\n",
    "                \n",
    "    elif file == 'excel':\n",
    "        df = pd.read_excel('AltaRotacionModelosMercadoLibre.xlsx') \n",
    "        \n",
    "        # Seleccionar la columna\n",
    "        columna = df['Columna']  # Reemplaza 'nombre_columna' con el nombre de tu columna\n",
    "\n",
    "        # Convertir a lista\n",
    "        lista_valores = columna.tolist()\n",
    "\n",
    "        valores_sql = ', '.join(\"'\" + str(valor) + \"'\" for valor in lista_valores)\n",
    "\n",
    "        # Imprimir la cadena SQL\n",
    "        print(valores_sql)\n",
    "    else: \n",
    "        print('Faltó algún campo')\n"
   ]
  },
  {
   "cell_type": "code",
   "execution_count": 29,
   "id": "fc5624a2",
   "metadata": {},
   "outputs": [
    {
     "name": "stdout",
     "output_type": "stream",
     "text": [
      "'2684543', '3017166', '2671727', '2975122', '2869827', '3045046', '3129784', '2935928', '3039007', '2982526', '3045008', '2841380', '2810409', '2576848', '3061121', '3039083', '2977287', '2879840', '2987422', '3085066', '2987507', '2843063', '3017340', '2934808', '2953984', '3024645', '3043905', '2814322', '2724904', '3224700', '2869803', '3059661', '2934723', '2699967', '3224724', '2737201', '2977508', '2744605', '2926384', '2977447', '2684963', '2949284', '2774381', '2659985', '2724867', '2988061', '2694566', '2774824', '2845388', '3085165', '2634845', '3016121', '3047804', '3223789', '2869780', '2949680', '2977683', '3015827', '3061107', '3096222', '2684987', '3060124', '2902265', '2638584', '3133040', '2728087', '3059807', '2713243', '3017227', '3062241', '3094204', '3224465', '2842929', '2894287', '3015346', '3015407', '3032244', '3034026', '3042984', '3133088', '3036686', '3094303', '3097069', '3097403', '3122303', '3123102', '3142684', '2843025', '2846842', '2964706', '3008584', '3017180', '3037249', '3041185', '3045923', '3072769', '3096888', '3098189', '3144503', '2774503', '2640563', '2804880', '2964683', '3047729', '2723662', '2728223', '2743721', '2892801', '2977003', '3014820', '3014943', '3015124', '3016862', '3032527', '3034309', '3042960', '3060285', '3133224', '2693705', '2936963', '2984261', '3037720', '3041888', '3062265', '3066027', '3072783', '3072806', '3098448', '3123546', '2894065', '3098127', '3119167', '2898025', '2964669', '2996226', '3090329', '3098103', '3125489', '2679648', '2935546', '2976846', '3036143', '3224021', '2727301', '2728247', '2977720', '3034262', '3042922', '3096642', '3106822', '2757667', '2843421', '2845227', '2847580', '2934761', '2976969', '3046661', '3073186', '3176481', '2964843', '2964928', '2964980', '3095140', '2683744', '2823966', '2844220', '2926285', '2943442', '2965161', '3045282', '3046869', '3059869', '3133521', '3134009', '2966069', '2965444', '2982021', '3036082', '3047781', '2693965', '2936048', '2965208', '3033463', '3046760', '2964942', '3186008', '2965222', '2964829', '2964904', '2814285'\n"
     ]
    }
   ],
   "source": [
    "file_name = 'AltaRotacionModelosMercadoLibre.xlsx'\n",
    "columna = 'Columna'\n",
    "file = 'excel'\n",
    "\n",
    "Create_List(file_name, columna, file)"
   ]
  },
  {
   "cell_type": "code",
   "execution_count": 30,
   "id": "1ac0d139",
   "metadata": {},
   "outputs": [
    {
     "data": {
      "text/plain": [
       "190"
      ]
     },
     "execution_count": 30,
     "metadata": {},
     "output_type": "execute_result"
    }
   ],
   "source": [
    "len(df)"
   ]
  }
 ],
 "metadata": {
  "kernelspec": {
   "display_name": "Python 3 (ipykernel)",
   "language": "python",
   "name": "python3"
  },
  "language_info": {
   "codemirror_mode": {
    "name": "ipython",
    "version": 3
   },
   "file_extension": ".py",
   "mimetype": "text/x-python",
   "name": "python",
   "nbconvert_exporter": "python",
   "pygments_lexer": "ipython3",
   "version": "3.11.5"
  }
 },
 "nbformat": 4,
 "nbformat_minor": 5
}
